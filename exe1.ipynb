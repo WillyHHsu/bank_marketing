{
 "cells": [
  {
   "cell_type": "code",
   "execution_count": null,
   "metadata": {},
   "outputs": [],
   "source": [
    "\"\"\"\n",
    "responda isso aqui:\n",
    "\n",
    "1. Qual profissão tem mais tendência a fazer um empréstimo? De qual tipo?\n",
    "2. Fazendo uma relação entre número de contatos e sucesso da campanha quais\n",
    "são os pontos relevantes a serem observados?\n",
    "3. Baseando-se nos resultados de adesão desta campanha qual o número médio e\n",
    "o máximo de ligações que você indica para otimizar a adesão?\n",
    "4. O resultado da campanha anterior tem relevância na campanha atual?\n",
    "5. Qual o fator determinante para que o banco exija um seguro de crédito?\n",
    "6. Quais são as características mais proeminentes de um cliente que possua\n",
    "empréstimo imobiliário?\n",
    "\n",
    "-duration é em s\n",
    "-pdays é o dia de dias corridos(?) antes do ultimo contato,-1 = nunca\n",
    "-previous é a qntd de contatos antes dessa campanha atual\n",
    "-poutcome - é o resultado de campanhas passadas \n",
    "- não há nulos, data.isnull().sum()\n",
    "\"\"\""
   ]
  },
  {
   "cell_type": "code",
   "execution_count": 180,
   "metadata": {},
   "outputs": [],
   "source": [
    "import pandas as pd\n",
    "import matplotlib as plt\n",
    "%matplotlib inline"
   ]
  },
  {
   "cell_type": "code",
   "execution_count": 154,
   "metadata": {},
   "outputs": [],
   "source": [
    "\"\"\"\n",
    "1. Qual profissão tem mais tendência a fazer um empréstimo? De qual tipo?\n",
    "\n",
    "- da probabilidade do Ens Médio: desejado/total, onde desejado é empréstimo\n",
    "- mas a primeira pergunta foi profissão, então vamos achar\n",
    "  a profissão que mais pede emprestimo contando individualmente cada uma profissao.\n",
    "\n",
    "- vamos: separar em comprar sim ou não\n",
    "- separar em qual tipo de compra (4 possibilidades)\n",
    "- um group by por profissao e emprestimo\n",
    "\n",
    "- beleza, agora vamos ver qual é o tipo de emprestimo que é mais presente dentro \n",
    "  dessa profissão. Dado que escolhi o caso de sim/sim como uma 4 categoria,\n",
    "  pois se ele é tão comprometido, talvez tenha algum espaço para olhar com um pouco \n",
    "  mais de cuidado\n",
    "  \n",
    "  \"\"\""
   ]
  },
  {
   "cell_type": "code",
   "execution_count": null,
   "metadata": {},
   "outputs": [],
   "source": [
    "data = pd.read_csv('data/bank-full.csv',sep = ';')"
   ]
  },
  {
   "cell_type": "code",
   "execution_count": 190,
   "metadata": {},
   "outputs": [],
   "source": [
    "## index  0 = casa, index  1 = pessoal\n",
    "one_df = data \n",
    "possibilities = {'yesyes':'c1',\n",
    "                 'nono':'c2',\n",
    "                 'yesno':'c3',\n",
    "                 'noyes':'c4'}\n",
    "\n",
    "at_least =  {'yesyes':1,\n",
    "              'nono':0,\n",
    "              'yesno':1,\n",
    "              'noyes':1}\n",
    "\n",
    "one_df['any_loan'] = one_df.housing + one_df.loan\n",
    "one_df['at_least_one_loan'] = one_df.any_loan.replace(at_least)\n",
    "one_df['any_loan'] = one_df.any_loan.replace(possibilities)"
   ]
  },
  {
   "cell_type": "code",
   "execution_count": 218,
   "metadata": {},
   "outputs": [],
   "source": [
    "#gb = one_df.groupby(['job', 'at_least_one_loan'])['age'].count()\n",
    "#pd.DataFrame((gb/gb.groupby(level=0).sum()).nlargest(24)).reset_index()"
   ]
  },
  {
   "cell_type": "code",
   "execution_count": 229,
   "metadata": {},
   "outputs": [
    {
     "data": {
      "text/plain": [
       "<matplotlib.axes._subplots.AxesSubplot at 0x7ff2431c8780>"
      ]
     },
     "execution_count": 229,
     "metadata": {},
     "output_type": "execute_result"
    },
    {
     "data": {
      "image/png": "[encoded data removed]",
      "text/plain": [
       "<Figure size 432x288 with 1 Axes>"
      ]
     },
     "metadata": {
      "needs_background": "light"
     },
     "output_type": "display_data"
    }
   ],
   "source": [
    "gb = pd.DataFrame(one_df.groupby(['job', 'at_least_one_loan'])['age'].count()).reset_index()\n",
    "gb.columns = ['job', 'at_least_one_loan', 'total']\n",
    "gb[gb['at_least_one_loan']==1].sort_values(by = 'total').plot(x= 'job',\n",
    "                                                              y = 'total',\n",
    "                                                              kind='bar')"
   ]
  },
  {
   "cell_type": "code",
   "execution_count": 245,
   "metadata": {},
   "outputs": [
    {
     "data": {
      "text/plain": [
       "<matplotlib.axes._subplots.AxesSubplot at 0x7ff2430e6ef0>"
      ]
     },
     "execution_count": 245,
     "metadata": {},
     "output_type": "execute_result"
    },
    {
     "data": {
      "image/png": "[encoded data removed]",
      "text/plain": [
       "<Figure size 432x288 with 1 Axes>"
      ]
     },
     "metadata": {
      "needs_background": "light"
     },
     "output_type": "display_data"
    }
   ],
   "source": [
    "one_df[(one_df['job'] == 'blue-collar') & (one_df['any_loan'] != 'c2')]\\\n",
    ".groupby('any_loan').count()['age'].plot(kind = 'bar')\n",
    "\n",
    "\"\"\"\n",
    "c3 é o caso tem empréstimo de casa e não pessoal.\n",
    "\n",
    "!!!!!!!!!!!!!!!!!!!!!!!!!!!!!!!!!!!!!!!!!!!!!!!!!!!!!!!!!!!!!!!!!!!!!!!!!!!!!!!!!!!!!!!!!!!\n",
    "                Resposta: São os blue collar com empréstimo domiciliar\n",
    "!!!!!!!!!!!!!!!!!!!!!!!!!!!!!!!!!!!!!!!!!!!!!!!!!!!!!!!!!!!!!!!!!!!!!!!!!!!!!!!!!!!!!!!!!!!\n",
    "\"\"\""
   ]
  }
 ],
 "metadata": {
  "kernelspec": {
   "display_name": "Python 3",
   "language": "python",
   "name": "python3"
  },
  "language_info": {
   "codemirror_mode": {
    "name": "ipython",
    "version": 3
   },
   "file_extension": ".py",
   "mimetype": "text/x-python",
   "name": "python",
   "nbconvert_exporter": "python",
   "pygments_lexer": "ipython3",
   "version": "3.6.7"
  }
 },
 "nbformat": 4,
 "nbformat_minor": 2
}
