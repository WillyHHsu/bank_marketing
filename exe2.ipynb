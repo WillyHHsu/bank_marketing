{
 "cells": [
  {
   "cell_type": "code",
   "execution_count": null,
   "metadata": {},
   "outputs": [],
   "source": [
    "\"\"\"\n",
    "2. Fazendo uma relação entre número de contatos e sucesso da campanha quais\n",
    "são os pontos relevantes a serem observados?\n",
    "\n",
    "\"\"\""
   ]
  },
  {
   "cell_type": "code",
   "execution_count": 81,
   "metadata": {},
   "outputs": [],
   "source": [
    "import pandas as pd\n",
    "import numpy as np\n",
    "from sklearn.model_selection import train_test_split, cross_val_score\n",
    "from sklearn.ensemble import RandomForestClassifier\n",
    "from sklearn.feature_selection import RFECV\n"
   ]
  },
  {
   "cell_type": "code",
   "execution_count": 62,
   "metadata": {},
   "outputs": [],
   "source": [
    "data = pd.read_csv('data/bank-full.csv',sep = ';')"
   ]
  },
  {
   "cell_type": "code",
   "execution_count": 63,
   "metadata": {},
   "outputs": [],
   "source": [
    "dict_b = {'no':0,'yes':1}\n",
    "categorical = ['job', 'marital', 'education',  'contact','poutcome' ]\n",
    "numerical = ['age','balance', 'duration','campaign','previous','pdays' ]\n",
    "booleans = ['default', 'housing','loan', 'y' ]"
   ]
  },
  {
   "cell_type": "code",
   "execution_count": 64,
   "metadata": {},
   "outputs": [],
   "source": [
    "data[booleans] = data[booleans].replace(dict_b)\n",
    "data = pd.get_dummies(data, columns = categorical)"
   ]
  },
  {
   "cell_type": "code",
   "execution_count": 74,
   "metadata": {},
   "outputs": [],
   "source": [
    "x_col = ['age', 'default', 'balance', 'housing', 'loan', \n",
    "       'duration', 'campaign', 'pdays', 'previous', 'job_admin.',\n",
    "       'job_blue-collar', 'job_entrepreneur', 'job_housemaid',\n",
    "       'job_management', 'job_retired', 'job_self-employed', 'job_services',\n",
    "       'job_student', 'job_technician', 'job_unemployed', 'job_unknown',\n",
    "       'marital_divorced', 'marital_married', 'marital_single',\n",
    "       'education_primary', 'education_secondary', 'education_tertiary',\n",
    "       'education_unknown', 'contact_cellular', 'contact_telephone',\n",
    "       'contact_unknown', 'poutcome_failure', 'poutcome_other',\n",
    "       'poutcome_success', 'poutcome_unknown']\n",
    "\n",
    "y_col = ['y']"
   ]
  },
  {
   "cell_type": "code",
   "execution_count": 75,
   "metadata": {},
   "outputs": [],
   "source": [
    "x_train,x_eval, y_train, y_eval = train_test_split(data[x_col], \n",
    "                                                 data[y_col],\n",
    "                                                 test_size=0.2,\n",
    "                                                 random_state=58)\n"
   ]
  },
  {
   "cell_type": "code",
   "execution_count": 103,
   "metadata": {},
   "outputs": [
    {
     "name": "stderr",
     "output_type": "stream",
     "text": [
      "/usr/local/lib/python3.6/dist-packages/ipykernel_launcher.py:6: DataConversionWarning: A column-vector y was passed when a 1d array was expected. Please change the shape of y to (n_samples,), for example using ravel().\n",
      "  \n"
     ]
    },
    {
     "data": {
      "text/plain": [
       "0.8828928452947031"
      ]
     },
     "execution_count": 103,
     "metadata": {},
     "output_type": "execute_result"
    }
   ],
   "source": [
    "model = RandomForestClassifier(n_estimators=25,\n",
    "                                 max_depth=3, \n",
    "                                 random_state=58,\n",
    "                                 criterion= 'entropy'\n",
    "                              )\n",
    "clf = model.fit(x_train,y_train)\n",
    "clf.score(x_eval, y_eval)"
   ]
  },
  {
   "cell_type": "code",
   "execution_count": 104,
   "metadata": {},
   "outputs": [
    {
     "name": "stdout",
     "output_type": "stream",
     "text": [
      "Predicted     0  1   All\n",
      "Actual                  \n",
      "0          7976  0  7976\n",
      "1          1059  8  1067\n",
      "All        9035  8  9043\n"
     ]
    }
   ],
   "source": [
    "print(pd.crosstab(np.array(y_eval).reshape(1,-1)[0], \n",
    "                  clf.predict(x_eval) ,\n",
    "                  rownames=['Actual'], \n",
    "                  colnames=['Predicted'],\n",
    "                  margins=True))"
   ]
  },
  {
   "cell_type": "code",
   "execution_count": 105,
   "metadata": {},
   "outputs": [
    {
     "name": "stderr",
     "output_type": "stream",
     "text": [
      "/usr/local/lib/python3.6/dist-packages/sklearn/utils/validation.py:761: DataConversionWarning: A column-vector y was passed when a 1d array was expected. Please change the shape of y to (n_samples, ), for example using ravel().\n",
      "  y = column_or_1d(y, warn=True)\n"
     ]
    }
   ],
   "source": [
    "selector = RFECV(clf, step=1, cv=5, n_jobs=-1)\n",
    "selector = selector.fit(x_train, y_train)\n",
    "#feature selection + recursivo = método fácil para evitar colineariedades"
   ]
  },
  {
   "cell_type": "code",
   "execution_count": 106,
   "metadata": {},
   "outputs": [
    {
     "name": "stdout",
     "output_type": "stream",
     "text": [
      "                     importance\n",
      "duration                      1\n",
      "poutcome_success              1\n",
      "contact_unknown               2\n",
      "pdays                         3\n",
      "housing                       4\n",
      "previous                      5\n",
      "contact_cellular              6\n",
      "age                           7\n",
      "poutcome_failure              8\n",
      "poutcome_unknown              9\n",
      "campaign                     10\n",
      "marital_married              11\n",
      "balance                      12\n",
      "education_tertiary           13\n",
      "marital_single               14\n",
      "education_secondary          15\n",
      "job_student                  16\n",
      "marital_divorced             17\n",
      "loan                         18\n",
      "job_unknown                  19\n",
      "job_retired                  20\n",
      "poutcome_other               21\n",
      "job_self-employed            22\n",
      "job_unemployed               23\n",
      "job_blue-collar              24\n",
      "default                      25\n",
      "education_primary            26\n",
      "job_admin.                   27\n",
      "education_unknown            28\n",
      "job_technician               29\n",
      "job_management               30\n",
      "job_housemaid                31\n",
      "job_entrepreneur             32\n",
      "contact_telephone            33\n",
      "job_services                 34\n"
     ]
    }
   ],
   "source": [
    "print(pd.DataFrame(selector.ranking_, index = x_col, columns=['importance']).sort_values('importance', ascending=True))"
   ]
  },
  {
   "cell_type": "code",
   "execution_count": null,
   "metadata": {},
   "outputs": [],
   "source": [
    "\"\"\"\n",
    "Opa, conseguiremos otimizar a campanha olhando para a duração, olhando o resultado da \n",
    "ultima campanha, a idade e se a pessoa tem empréstimo imobiliário\n",
    "\"\"\"\""
   ]
  }
 ],
 "metadata": {
  "kernelspec": {
   "display_name": "Python 3",
   "language": "python",
   "name": "python3"
  },
  "language_info": {
   "codemirror_mode": {
    "name": "ipython",
    "version": 3
   },
   "file_extension": ".py",
   "mimetype": "text/x-python",
   "name": "python",
   "nbconvert_exporter": "python",
   "pygments_lexer": "ipython3",
   "version": "3.6.7"
  }
 },
 "nbformat": 4,
 "nbformat_minor": 2
}
