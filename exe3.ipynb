{
 "cells": [
  {
   "cell_type": "code",
   "execution_count": null,
   "metadata": {},
   "outputs": [],
   "source": [
    "\"\"\"\n",
    "3. Baseando-se nos resultados de adesão desta campanha qual o número médio e\n",
    "o máximo de ligações que você indica para otimizar a adesão?\n",
    "\"\"\""
   ]
  },
  {
   "cell_type": "code",
   "execution_count": 2,
   "metadata": {},
   "outputs": [],
   "source": [
    "import pandas as pd\n",
    "import matplotlib as plt\n",
    "from math import e\n",
    "from math import factorial\n",
    "%matplotlib inline"
   ]
  },
  {
   "cell_type": "code",
   "execution_count": 40,
   "metadata": {},
   "outputs": [
    {
     "data": {
      "text/html": [
       "<div>\n",
       "<style scoped>\n",
       "    .dataframe tbody tr th:only-of-type {\n",
       "        vertical-align: middle;\n",
       "    }\n",
       "\n",
       "    .dataframe tbody tr th {\n",
       "        vertical-align: top;\n",
       "    }\n",
       "\n",
       "    .dataframe thead th {\n",
       "        text-align: right;\n",
       "    }\n",
       "</style>\n",
       "<table border=\"1\" class=\"dataframe\">\n",
       "  <thead>\n",
       "    <tr style=\"text-align: right;\">\n",
       "      <th></th>\n",
       "      <th>campaign</th>\n",
       "    </tr>\n",
       "  </thead>\n",
       "  <tbody>\n",
       "    <tr>\n",
       "      <th>count</th>\n",
       "      <td>5289.000000</td>\n",
       "    </tr>\n",
       "    <tr>\n",
       "      <th>mean</th>\n",
       "      <td>2.141047</td>\n",
       "    </tr>\n",
       "    <tr>\n",
       "      <th>std</th>\n",
       "      <td>1.921826</td>\n",
       "    </tr>\n",
       "    <tr>\n",
       "      <th>min</th>\n",
       "      <td>1.000000</td>\n",
       "    </tr>\n",
       "    <tr>\n",
       "      <th>25%</th>\n",
       "      <td>1.000000</td>\n",
       "    </tr>\n",
       "    <tr>\n",
       "      <th>50%</th>\n",
       "      <td>2.000000</td>\n",
       "    </tr>\n",
       "    <tr>\n",
       "      <th>75%</th>\n",
       "      <td>3.000000</td>\n",
       "    </tr>\n",
       "    <tr>\n",
       "      <th>max</th>\n",
       "      <td>32.000000</td>\n",
       "    </tr>\n",
       "  </tbody>\n",
       "</table>\n",
       "</div>"
      ],
      "text/plain": [
       "          campaign\n",
       "count  5289.000000\n",
       "mean      2.141047\n",
       "std       1.921826\n",
       "min       1.000000\n",
       "25%       1.000000\n",
       "50%       2.000000\n",
       "75%       3.000000\n",
       "max      32.000000"
      ]
     },
     "execution_count": 40,
     "metadata": {},
     "output_type": "execute_result"
    }
   ],
   "source": [
    "data = pd.read_csv('data/bank-full.csv',sep = ';')\n",
    "data[data['y']=='yes'][['campaign']].describe()\n",
    "# aqui já parece que 3 seria um ótimo número, mas vamos mais um pouco pra frente"
   ]
  },
  {
   "cell_type": "code",
   "execution_count": 39,
   "metadata": {},
   "outputs": [
    {
     "data": {
      "text/plain": [
       "<matplotlib.axes._subplots.AxesSubplot at 0x7f58de28d9e8>"
      ]
     },
     "execution_count": 39,
     "metadata": {},
     "output_type": "execute_result"
    },
    {
     "data": {
      "image/png": "[encoded data removed]",
      "text/plain": [
       "<Figure size 432x288 with 1 Axes>"
      ]
     },
     "metadata": {
      "needs_background": "light"
     },
     "output_type": "display_data"
    }
   ],
   "source": [
    "data[data['y']=='yes'].groupby('campaign').count()['age'].plot(kind = 'bar')\n",
    "#opa, carinha de Poisson"
   ]
  },
  {
   "cell_type": "code",
   "execution_count": 112,
   "metadata": {},
   "outputs": [
    {
     "name": "stdout",
     "output_type": "stream",
     "text": [
      "2.1410474569861977\n"
     ]
    }
   ],
   "source": [
    "q = sum((data[data['y']=='yes'])['campaign'])/len(data[data['y']=='yes'])\n",
    "print(q)\n",
    "#vamos pegar a média de ligações por dia que deram certo "
   ]
  },
  {
   "cell_type": "code",
   "execution_count": 116,
   "metadata": {},
   "outputs": [
    {
     "name": "stdout",
     "output_type": "stream",
     "text": [
      "0 ligação: nesse ponto temos 0.11753166915542132, e o acumulado temos 0.11753166915542132\n",
      "#-#-#-#-#-#-#-#-#-#-\n",
      "1 ligação: nesse ponto temos 0.25164088136055796, e o acumulado temos 0.3691725505159793\n",
      "#-#-#-#-#-#-#-#-#-#-\n",
      "2 ligação: nesse ponto temos 0.26938753455539405, e o acumulado temos 0.6385600850713733\n",
      "#-#-#-#-#-#-#-#-#-#-\n",
      "3 ligação: nesse ponto temos 0.19225716526786926, e o acumulado temos 0.8308172503392426\n",
      "#-#-#-#-#-#-#-#-#-#-\n",
      "4 ligação: nesse ponto temos 0.10290792869603667, e o acumulado temos 0.9337251790352793\n",
      "#-#-#-#-#-#-#-#-#-#-\n",
      "5 ligação: nesse ponto temos 0.04406615180767325, e o acumulado temos 0.9777913308429526\n",
      "#-#-#-#-#-#-#-#-#-#-\n",
      "6 ligação: nesse ponto temos 0.015724620377831094, e o acumulado temos 0.9935159512207836\n",
      "#-#-#-#-#-#-#-#-#-#-\n",
      "7 ligação: nesse ponto temos 0.004809594067432658, e o acumulado temos 0.9983255452882163\n",
      "#-#-#-#-#-#-#-#-#-#-\n",
      "8 ligação: nesse ponto temos 0.0012871961434015745, e o acumulado temos 0.9996127414316178\n",
      "#-#-#-#-#-#-#-#-#-#-\n",
      "9 ligação: nesse ponto temos 0.0003062164477191535, e o acumulado temos 0.9999189578793369\n",
      "#-#-#-#-#-#-#-#-#-#-\n"
     ]
    }
   ],
   "source": [
    "def teste(a):\n",
    "    return (e**(-q)*q**a)/factorial(a)\n",
    "a = 0\n",
    "for i in range(10):\n",
    "    a+= teste(i)\n",
    "    print('{} ligação: nesse ponto temos {}, e o acumulado temos {}'.format(i, teste(i), a))\n",
    "    print('#-'*10)"
   ]
  },
  {
   "cell_type": "code",
   "execution_count": null,
   "metadata": {},
   "outputs": [],
   "source": [
    "\"\"\"\n",
    "!!!!!!!!!!!!!!!!!!!!!!!!!!!!!!!!!!!!!!!!!!!!!!!!!!!!!!!!!!!!!!!!!!!!!!!!!!!!!!!!!!!!!!!!!!!\n",
    "                Resposta: apesar da média ser 2 ligações, eu indicaria\n",
    "                \n",
    "!!!!!!!!!!!!!!!!!!!!!!!!!!!!!!!!!!!!!!!!!!!!!!!!!!!!!!!!!!!!!!!!!!!!!!!!!!!!!!!!!!!!!!!!!!!\n",
    "\"\"\""
   ]
  }
 ],
 "metadata": {
  "kernelspec": {
   "display_name": "Python 3",
   "language": "python",
   "name": "python3"
  },
  "language_info": {
   "codemirror_mode": {
    "name": "ipython",
    "version": 3
   },
   "file_extension": ".py",
   "mimetype": "text/x-python",
   "name": "python",
   "nbconvert_exporter": "python",
   "pygments_lexer": "ipython3",
   "version": "3.6.7"
  }
 },
 "nbformat": 4,
 "nbformat_minor": 2
}
