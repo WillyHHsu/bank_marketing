{
 "cells": [
  {
   "cell_type": "code",
   "execution_count": 8,
   "metadata": {},
   "outputs": [
    {
     "data": {
      "text/plain": [
       "'\\n5. Qual o fator determinante para que o banco exija um seguro de crédito?\\n------------------------------------------------------------------------------------\\nBem, seguro de crédito é mintigação de risco, dito isso quem tem mais chance \\nde dar problemas?\\n'"
      ]
     },
     "execution_count": 8,
     "metadata": {},
     "output_type": "execute_result"
    }
   ],
   "source": [
    "\"\"\"\n",
    "5. Qual o fator determinante para que o banco exija um seguro de crédito?\n",
    "------------------------------------------------------------------------------------\n",
    "Resposta:\n",
    "Bem, seguro de crédito é mintigação de risco, dito isso quem tem mais chance \n",
    "de dar problemas? \n",
    "\n",
    "podemos desenhar algumas hipóteses\n",
    "\n",
    "- Pessoas mais jovens tem menos capital que as mais velhas, dado que a minória é herdeiro. \n",
    "- Pessoas com emprestimos tem menos chance de pagar que as sem dívidas. Então\n",
    "  as que tem dois empréstimos são o mais arriscado por comprometerem muito de sua renda\n",
    "- Saldo negativo ou próximo do zero são menos propensos a pagar em momentos inesperados\n",
    "- Tipo de emprego também pois isso afeta seu poder de compra e de pagamentos \n",
    "\n",
    "algumas outras:\n",
    "\n",
    "-pessoas casadas e com idade mais elevada, tem mais chance de terem filhos. Dito isso,\n",
    "janeiro e fevereiro costumam ser uma época de gastar dinheiro com material escolar.\n",
    "-pessoas com dividas imobiliário tem mais chance de ter casa. Dito isso, janeiro é\n",
    "tempo de pagar IPTU.\n",
    "\n",
    "Bem, como as ultimas duas hipóteses carregam outras hipoteses, elas precisam de um método \n",
    "mais exato para avaliar. Assim ficamos com as primeiras.\n",
    "\n",
    "- O emprego: complicado pois o input pode ser errado, portanto tiramos ele da lista. \n",
    "  E mesmo que não o seja, o desvio padrão vai influenciar\n",
    "- Saldo negativo: a pessoa pode estar em saldo negativo por n motivos, dito isso, fica \n",
    "  complicado pois seriam muitas coisas para pensar\n",
    "- Idade: Ok pessoa novas não tem dinheiro, mas também não tem muita responsabilidade, na maioria.\n",
    "  Pensando de uma forma de negócio, imagino que isso impacte pouco, já que dado que tem poucas\n",
    "  responsabilidades, tem poucos motivos para se arriscar\n",
    "\n",
    "Assim, pessoas tomadas são as que tem mais precisam de seguro dado que elas já estão com overhead \n",
    "de capital pequeno.\n",
    "Em adição, são os dados que eu tenho que afzer menos hipóteses. E portanto, para esse\n",
    "exercício de imaginação, a feature que mais importa.\n"
   ]
  }
 ],
 "metadata": {
  "kernelspec": {
   "display_name": "Python 3",
   "language": "python",
   "name": "python3"
  },
  "language_info": {
   "codemirror_mode": {
    "name": "ipython",
    "version": 3
   },
   "file_extension": ".py",
   "mimetype": "text/x-python",
   "name": "python",
   "nbconvert_exporter": "python",
   "pygments_lexer": "ipython3",
   "version": "3.6.7"
  }
 },
 "nbformat": 4,
 "nbformat_minor": 2
}
